{
 "cells": [
  {
   "cell_type": "markdown",
   "metadata": {},
   "source": [
    "# Scenario met de gebouwen"
   ]
  },
  {
   "cell_type": "markdown",
   "metadata": {},
   "source": [
    "2 mogelijkheden van hier naar te kijken:\n",
    "* 1: regen volgt op de daken (veronderstel dus plat) zelfde routing. Idee zou wel zijn om hier de manning coefficient bijvoorbeeld aan te passen voor de daken. \n",
    "*  2: elimineer de regen die valt op de daken, omdat deze allemaal naar de riolering gaat\n",
    "\n",
    "Idee: illustreert belang van een goede riolering!\n",
    "\n",
    "Neem opnieuw dezelfde 20 "
   ]
  },
  {
   "cell_type": "code",
   "execution_count": 2,
   "metadata": {},
   "outputs": [],
   "source": [
    "import numpy as np\n",
    "import matplotlib.pyplot as plt\n",
    "import matplotlib.animation as animation\n",
    "from IPython import display"
   ]
  },
  {
   "cell_type": "markdown",
   "metadata": {},
   "source": [
    "## 1: routing op de daken"
   ]
  },
  {
   "cell_type": "code",
   "execution_count": 1,
   "metadata": {},
   "outputs": [
    {
     "data": {
      "image/png": "[encoded data removed]",
      "text/plain": [
       "<Figure size 540x540 with 2 Axes>"
      ]
     },
     "metadata": {
      "needs_background": "light"
     },
     "output_type": "display_data"
    }
   ],
   "source": [
    "runfile('Grid_gebouwen.py')"
   ]
  },
  {
   "cell_type": "markdown",
   "metadata": {},
   "source": [
    "Nood aan veronderstelling voor de randen natuurlijk! Meest logisch = open randen: het water kan dus weg! Zet hiervoor de trends verder van de slopes aan alle randen!  "
   ]
  },
  {
   "cell_type": "code",
   "execution_count": 13,
   "metadata": {},
   "outputs": [
    {
     "data": {
      "text/plain": [
       "Text(0.5, 1.0, 'Hoogtes met imaginaire randen')"
      ]
     },
     "execution_count": 13,
     "metadata": {},
     "output_type": "execute_result"
    },
    {
     "data": {
      "image/png": "[encoded data removed]",
      "text/plain": [
       "<Figure size 432x288 with 2 Axes>"
      ]
     },
     "metadata": {
      "needs_background": "light"
     },
     "output_type": "display_data"
    }
   ],
   "source": [
    "grid_imag = np.zeros((ny+2,nx+2))\n",
    "grid_imag[1:-1,1:-1] = grid\n",
    "#boundary conditions\n",
    "grid_imag[:,0] = grid_imag[:,1] + slopex*deltax\n",
    "grid_imag[:,-1] = grid_imag[:,-2] - slopex*deltax\n",
    "grid_imag[0,:] = grid_imag[1,:] - slopey*deltay\n",
    "grid_imag[-1,:] = grid_imag[-2,:] + slopey*deltay\n",
    "plt.imshow(np.flipud(grid_imag),  extent = [np.min(xs), np.max(xs),\n",
    "np.min(ys),np.max(ys)])\n",
    "plt.xlabel('x [m]')\n",
    "plt.ylabel('y [m]')\n",
    "plt.colorbar()\n",
    "plt.title('Hoogtes met imaginaire randen')"
   ]
  },
  {
   "cell_type": "markdown",
   "metadata": {},
   "source": [
    "Idee van matrix aanmaken met manningcoefficienten (http://www.fsl.orst.edu/geowater/FX3/help/8_Hydraulic_Reference/Mannings_n_Tables.htm):\n",
    "* voor de straten: veronderstel glad asfalt => n = 0.011\n",
    "* voor de daken: "
   ]
  },
  {
   "cell_type": "markdown",
   "metadata": {},
   "source": [
    "Copypaste de functies uit vorige script"
   ]
  },
  {
   "cell_type": "code",
   "execution_count": 10,
   "metadata": {},
   "outputs": [],
   "source": [
    "def OutfluxNH2_init(NH_h, NH_d, Acell, deltax):\n",
    "    '''\n",
    "    Berekent de flux naar elk van de naburige cellen.\n",
    "    Vorm output: array van lengte 4 (F1, F2, F4, F5).\n",
    "    Benodigde inputs (volgorde 1=>5 voor buren):\n",
    "    - NH_h: de hoogtes van de DEM van de NH\n",
    "    - NH_d: de waterdieptes van de NH\n",
    "    - Acell: oppervlakte van 1 grid cell (constant!)\n",
    "    '''\n",
    "    watersurface_elv = NH_h + NH_d #sommeer de twee\n",
    "    watersurface_elv_sorted = np.sort(watersurface_elv)\n",
    "    indices_sorted = np.argsort(watersurface_elv)\n",
    "    NH_d_sorted = NH_d[indices_sorted]\n",
    "    DWLs = np.zeros(len(NH_d_sorted)-1)\n",
    "    for i in range(len(DWLs)):\n",
    "        DWLs[i] = watersurface_elv_sorted[i+1]-watersurface_elv_sorted[i]\n",
    "    \n",
    "    Vc = NH_d[2]*Acell #centrale cel = derde input\n",
    "    rc = np.where(indices_sorted == 2)[0]\n",
    "    \n",
    "    # Berekening outflow volumes\n",
    "    #DeltaVis = np.zeros(5) \n",
    "    #for i in np.arange(0,int(rc)): #volgorde: van lage naar hoge water surface elevation\n",
    "        #if i != rc-1: #non-adjacent cells\n",
    "            #term1 = Vc-np.sum(DeltaVis)\n",
    "            #term2 = DWLs[i]*(i+1)*Acell\n",
    "            #DeltaVis[i]=np.min([term1,term2])\n",
    "        #elif i == rc-1: #adjacent cell\n",
    "            #term1 = Vc-np.sum(DeltaVis)\n",
    "            #term2 = DWLs[i]*(i+1)*Acell\n",
    "            #term3 = (i+1)*Acell/Acell + (i+1)*Acell*(Vc-np.sum(DeltaVis)) #GROOT!\n",
    "            #DeltaVis[i]=np.min([term1,term2,term3])\n",
    "\n",
    "    # Andere manier (oude paper):\n",
    "    DWLs_old = np.zeros(len(NH_d_sorted)-1) #andere definitie van DWLs in oude paper\n",
    "    for i in range(len(DWLs_old)):\n",
    "        DWLs_old[i] = watersurface_elv_sorted[rc] - watersurface_elv_sorted[i]\n",
    "    DeltaVis = np.zeros(5)\n",
    "    for i in np.arange(0,int(rc)):\n",
    "        term1 = Vc-np.sum(DeltaVis) \n",
    "        term2 = DWLs[i]*(i+1)*Acell\n",
    "        term3 = (i+1)/(i+2)*(Acell*DWLs_old[i]-np.sum(DeltaVis))\n",
    "        DeltaVis[i] = np.min([term1,term2,term3])\n",
    "    \n",
    "    # Berekening outflow fluxes\n",
    "    Fluxes = np.zeros(5)\n",
    "    for i in np.arange(0,int(rc)):\n",
    "            for j in np.arange(i, int(rc)):\n",
    "                Fluxes[i] = Fluxes[i] + DeltaVis[j]/(j+1) \n",
    "    # Fluxes toewijzen aan de juiste cellen (conventie figuur 1)\n",
    "    F1 = Fluxes[indices_sorted == 0]\n",
    "    F2 = Fluxes[indices_sorted == 1]\n",
    "    F4 = Fluxes[indices_sorted == 3]\n",
    "    F5 = Fluxes[indices_sorted == 4]\n",
    "\n",
    "    Fout = np.hstack([F1,F2,F4,F5])\n",
    "    \n",
    "    # Fysisch gelimiteerde snelheden (v's) berekenen en maximum opslaan\n",
    "    v_list = []\n",
    "    WL_C = watersurface_elv[2] #central cell = derde input\n",
    "    d = NH_d[2] #water depth (in central cell?)\n",
    "    R = d\n",
    "    n = 0.01 #Manning's coefficient\n",
    "    g = 9.81\n",
    "    for i in range(len(Fout)):\n",
    "        if Fout[i] != 0:\n",
    "            if i < 2: #cellen rechts, boven hebben indices 0,1\n",
    "                WL_N = watersurface_elv[i]\n",
    "            elif i > 1: #cellen onder, links hebben indices 3,4\n",
    "                WL_N = watersurface_elv[i+1]\n",
    "            S = (WL_C-WL_N)/deltax #geen onderscheid deltax/deltay voor vierkante cellen!\n",
    "            v_Mannings = (1/n)*(R**(2/3))*(S**(1/2))\n",
    "            v_critical = np.sqrt(g*d)\n",
    "            v = np.min([v_Mannings, v_critical])\n",
    "            v_list.append(v)\n",
    "    if len(v_list)==0: #np.max kan niet toegepast worden op een lege lijst\n",
    "        vmax_NH = 0\n",
    "    else:\n",
    "        vmax_NH = np.max(v_list)\n",
    "            \n",
    "    return Fout, vmax_NH"
   ]
  },
  {
   "cell_type": "code",
   "execution_count": 11,
   "metadata": {},
   "outputs": [],
   "source": [
    "def OutfluxNH2(NH_h, NH_d, Acell, deltat, deltax):\n",
    "    '''\n",
    "    Berekent de flux naar elk van de naburige cellen.\n",
    "    Vorm output: array van lengte 4 (F1, F2, F4, F5).\n",
    "    Benodigde inputs (volgorde 1=>5 voor buren):\n",
    "    - NH_h: de hoogtes van de DEM van de NH\n",
    "    - NH_d: de waterdieptes van de NH\n",
    "    - Acell: oppervlakte van 1 grid cell (constant!)\n",
    "    - deltat: berekent in de vorige time loop\n",
    "    '''\n",
    "    watersurface_elv = NH_h + NH_d #sommeer de twee\n",
    "    watersurface_elv_sorted = np.sort(watersurface_elv)\n",
    "    indices_sorted = np.argsort(watersurface_elv)\n",
    "    NH_d_sorted = NH_d[indices_sorted]\n",
    "    DWLs = np.zeros(len(NH_d_sorted)-1)\n",
    "    for i in range(len(DWLs)):\n",
    "        DWLs[i] = watersurface_elv_sorted[i+1]-watersurface_elv_sorted[i]\n",
    "    \n",
    "    Vc = NH_d[2]*Acell #centrale cel = derde input\n",
    "    rc = np.where(indices_sorted == 2)[0]\n",
    "    \n",
    "    # Berekening outflow volumes\n",
    "    #DeltaVis = np.zeros(5) \n",
    "    #for i in np.arange(0,int(rc)): #volgorde: van lage naar hoge water surface elevation\n",
    "        #if i != rc-1: #non-adjacent cells\n",
    "            #term1 = Vc-np.sum(DeltaVis)\n",
    "            #term2 = DWLs[i]*(i+1)*Acell\n",
    "            #DeltaVis[i]=np.min([term1,term2])\n",
    "        #elif i == rc-1: #adjacent cell\n",
    "            #term1 = Vc-np.sum(DeltaVis)\n",
    "            #term2 = DWLs[i]*(i+1)*Acell\n",
    "            #term3 = (i+1)*Acell/Acell + (i+1)*Acell*(Vc-np.sum(DeltaVis)) #GROOT!\n",
    "            #DeltaVis[i]=np.min([term1,term2,term3])\n",
    "\n",
    "    # Andere manier (oude paper):\n",
    "    DWLs_old = np.zeros(len(NH_d_sorted)-1) #andere definitie van DWLs in oude paper\n",
    "    for i in range(len(DWLs_old)):\n",
    "        DWLs_old[i] = watersurface_elv_sorted[rc] - watersurface_elv_sorted[i]\n",
    "    DeltaVis = np.zeros(5)\n",
    "    for i in np.arange(0,int(rc)):\n",
    "        term1 = Vc-np.sum(DeltaVis) \n",
    "        term2 = DWLs[i]*(i+1)*Acell\n",
    "        term3 = (i+1)/(i+2)*(Acell*DWLs_old[i]-np.sum(DeltaVis))\n",
    "        DeltaVis[i] = np.min([term1,term2,term3])\n",
    "    \n",
    "    # Berekening outflow fluxes\n",
    "    Fluxes = np.zeros(5)\n",
    "    for i in np.arange(0,int(rc)):\n",
    "            for j in np.arange(i, int(rc)):\n",
    "                Fluxes[i] = Fluxes[i] + DeltaVis[j]/(j+1) \n",
    "    # Fluxes toewijzen aan de juiste cellen (conventie figuur 1)\n",
    "    F1 = Fluxes[indices_sorted == 0]\n",
    "    F2 = Fluxes[indices_sorted == 1]\n",
    "    F4 = Fluxes[indices_sorted == 3]\n",
    "    F5 = Fluxes[indices_sorted == 4]\n",
    "\n",
    "    Fout = np.hstack([F1,F2,F4,F5])\n",
    "    \n",
    "    # Flux correction\n",
    "    vj_list = []\n",
    "    WL_C = watersurface_elv[2] #central cell = derde input\n",
    "    z_C = NH_h[2]\n",
    "    d = NH_d[2] #water depth (in central cell?)\n",
    "    R = d\n",
    "    n = 0.01 #Manning's coefficient\n",
    "    g = 9.81\n",
    "    for i in range(len(Fout)):\n",
    "        if Fout[i] != 0:\n",
    "            if i < 2: #cellen rechts, boven hebben indices 0,1\n",
    "                WL_N = watersurface_elv[i]\n",
    "                z_N = NH_h[i]\n",
    "            elif i > 1: #cellen onder, links hebben indices 3,4\n",
    "                WL_N = watersurface_elv[i+1]\n",
    "                z_N = NH_h[i+1]\n",
    "            # Calculate vstar\n",
    "            dstar = np.max([WL_C,WL_N])-np.max([z_C,z_N])\n",
    "            if dstar != 0:\n",
    "                vstar = Fout[i]/(dstar*deltax*deltat)\n",
    "            elif dstar == 0: #deling door 0 voorkomen\n",
    "                vstar = 0\n",
    "            # Calculate v\n",
    "            S = (WL_C-WL_N)/deltax #geen onderscheid deltax/deltay voor vierkante cellen!\n",
    "            v_Mannings = (1/n)*(R**(2/3))*(S**(1/2))\n",
    "            v_critical = np.sqrt(g*d)\n",
    "            v = np.min([v_Mannings, v_critical])\n",
    "            # Flux recalculation if necessary\n",
    "            if vstar > v:\n",
    "                vj_list.append(v)\n",
    "                Fout[i] = v*dstar*deltax*deltat\n",
    "            else:\n",
    "                vj_list.append(v) #AANPASSING: ENKEL WERKEN MET DE THEORERTISCHE MAX SNELHEID\n",
    "    if len(vj_list)==0: #np.max kan niet toegepast worden op een lege lijst\n",
    "        vjmax_NH = 0\n",
    "    else:\n",
    "        vjmax_NH = np.max(vj_list)\n",
    "    \n",
    "    return Fout, vjmax_NH"
   ]
  },
  {
   "cell_type": "markdown",
   "metadata": {},
   "source": [
    "Zelfde soort loop over de tijd"
   ]
  },
  {
   "cell_type": "code",
   "execution_count": 20,
   "metadata": {},
   "outputs": [
    {
     "name": "stdout",
     "output_type": "stream",
     "text": [
      "174.87435419566722\n",
      "1000.2032122550751\n",
      "2005.6610588506273\n",
      "3006.186348659119\n"
     ]
    },
    {
     "name": "stderr",
     "output_type": "stream",
     "text": [
      "C:\\Users\\olivi\\AppData\\Local\\Temp/ipykernel_15236/2238314007.py:83: RuntimeWarning: invalid value encountered in double_scalars\n",
      "  v_Mannings = (1/n)*(R**(2/3))*(S**(1/2))\n",
      "C:\\Users\\olivi\\AppData\\Local\\Temp/ipykernel_15236/2238314007.py:84: RuntimeWarning: invalid value encountered in sqrt\n",
      "  v_critical = np.sqrt(g*d)\n"
     ]
    },
    {
     "name": "stdout",
     "output_type": "stream",
     "text": [
      "4001.163326740182\n",
      "5005.262138193351\n",
      "6009.360949646521\n"
     ]
    }
   ],
   "source": [
    "# Parameters definiëren\n",
    "Acell = deltax*deltay\n",
    "tend = 100*60 #want blijft één uur regenval! \n",
    "rain = 20/(1000*3600) #regenval in m/s\n",
    "duration = 3600 \n",
    "theta = 0.7 #relaxatieparameter (gekalibreerd). Wanneer dit op 1 heeft dit effectief enkel effect op de m\n",
    "\n",
    "# Initialisatie: kan je hier korter nemen denk ik!! \n",
    "deltat = 60 #bv 1 minuut => 1e waterlaag \n",
    "depths_imag = np.zeros((ny+2,nx+2))\n",
    "depths_imag[1:-1,1:-1] = rain*deltat #waterdiepte na 5s regenval aan 20 mm/h\n",
    "t_list = [] #lijst met tijdstappen\n",
    "t = deltat\n",
    "t_list.append(t)\n",
    "depths_list = [] #lijst met waterdieptes voor alle tijdstap\n",
    "depths_list.append(depths_imag)\n",
    "\n",
    "\n",
    "##1## Eerste iteratie in de tijd => functie OutfluxNH2_init\n",
    "fluxes_imag = np.zeros((5,ny+2,nx+2)) #elke cell ontvangt 5 fluxen: 4 positieve en 1 negatieve (!)\n",
    "depths_imag = depths_list[-1]\n",
    "depths_imag_new = np.zeros((ny+2,nx+2)) #of np.copy(depths_imag)\n",
    "vmax_list = []\n",
    "for j in np.arange(1,ny+1):\n",
    "    for i in np.arange(1,nx+1):\n",
    "        # Hoogtes in neighbourhood\n",
    "        hneigb1 = grid_imag[j,i+1]\n",
    "        hneigb2 = grid_imag[j+1,i]\n",
    "        hneigb3 = grid_imag[j,i]\n",
    "        hneigb4 = grid_imag[j-1,i]\n",
    "        hneigb5 = grid_imag[j,i-1]\n",
    "        NH_h = np.hstack([hneigb1,hneigb2,hneigb3,hneigb4,hneigb5])\n",
    "        # Waterdieptes in neighbourhood\n",
    "        dneigb1 = depths_imag[j,i+1]\n",
    "        dneigb2 = depths_imag[j+1,i]\n",
    "        dneigb3 = depths_imag[j,i]\n",
    "        dneigb4 = depths_imag[j-1,i]\n",
    "        dneigb5 = depths_imag[j,i-1]\n",
    "        NH_d = np.hstack([dneigb1,dneigb2,dneigb3,dneigb4,dneigb5])\n",
    "        # Outflow fluxes berekenen\n",
    "        F,vmax_NH = OutfluxNH2_init(NH_h, NH_d, Acell, deltax)\n",
    "        F1 = F[0]\n",
    "        F2 = F[1]\n",
    "        F4 = F[2]\n",
    "        F5 = F[3]\n",
    "        # Toekennen van totale outflow flux centrale cel (!)\n",
    "        F3 = -F1-F2-F4-F5 \n",
    "        fluxes_imag[2,j,i] = F3\n",
    "        # Toekennen van inflow fluxes naburige cellen\n",
    "        fluxes_imag[3,j,i+1] = F1\n",
    "        fluxes_imag[4,j+1,i] = F2\n",
    "        fluxes_imag[0,j-1,i] = F4\n",
    "        fluxes_imag[1,j,i-1] = F5\n",
    "        # vmax_NH opslaan in lijst\n",
    "        vmax_list.append(vmax_NH)\n",
    "    \n",
    "# Globale tijdstap updaten\n",
    "deltat = deltax/np.max(vmax_list[:])\n",
    "print(deltat)\n",
    "t = t + deltat\n",
    "t_list.append(t)\n",
    "    \n",
    "depths_imag_new = np.copy(depths_imag) + theta*np.sum(fluxes_imag,axis=0)/Acell\n",
    "#updaten aan de randen: stel dat we deze volledig legen elke tijdstap\n",
    "depths_imag_new[:,0] = 0\n",
    "depths_imag_new[:,-1] = 0\n",
    "depths_imag_new[0,:] = 0\n",
    "depths_imag_new[-1,:] = 0\n",
    "\n",
    "# Regenval toevoegen aan waterdiepte\n",
    "if t < duration: #alleen in het eerste uur\n",
    "    depths_imag_new[1:-1,1:-1] = depths_imag_new[1:-1,1:-1] + rain*deltat\n",
    "depths_list.append(depths_imag_new)\n",
    "\n",
    "\n",
    "##2## Overige iteraties in de tijd => functie OutfluxNH2\n",
    "while t < tend:\n",
    "    fluxes_imag = np.zeros((5,ny+2,nx+2)) #elke cell ontvangt 5 fluxen: 4 positieve en 1 negatieve (!)\n",
    "    depths_imag = depths_list[-1]\n",
    "    depths_imag_new = np.zeros((ny+2,nx+2)) #of np.copy(depths_imag)\n",
    "    vjmax_list = []\n",
    "    for j in np.arange(1,ny+1):\n",
    "        for i in np.arange(1,nx+1):\n",
    "            # Hoogtes in neighbourhood\n",
    "            hneigb1 = grid_imag[j,i+1]\n",
    "            hneigb2 = grid_imag[j+1,i]\n",
    "            hneigb3 = grid_imag[j,i]\n",
    "            hneigb4 = grid_imag[j-1,i]\n",
    "            hneigb5 = grid_imag[j,i-1]\n",
    "            NH_h = np.hstack([hneigb1,hneigb2,hneigb3,hneigb4,hneigb5])\n",
    "            # Waterdieptes in neighbourhood\n",
    "            dneigb1 = depths_imag[j,i+1]\n",
    "            dneigb2 = depths_imag[j+1,i]\n",
    "            dneigb3 = depths_imag[j,i]\n",
    "            dneigb4 = depths_imag[j-1,i]\n",
    "            dneigb5 = depths_imag[j,i-1]\n",
    "            NH_d = np.hstack([dneigb1,dneigb2,dneigb3,dneigb4,dneigb5])\n",
    "            # Outflow fluxes berekenen\n",
    "            F,vjmax_NH = OutfluxNH2(NH_h, NH_d, Acell, deltat, deltax)\n",
    "            F1 = F[0]\n",
    "            F2 = F[1]\n",
    "            F4 = F[2]\n",
    "            F5 = F[3]\n",
    "            # Toekennen van totale outflow flux centrale cel (!)\n",
    "            F3 = -F1-F2-F4-F5 \n",
    "            fluxes_imag[2,j,i] = F3\n",
    "            # Toekennen van inflow fluxes naburige cellen\n",
    "            fluxes_imag[3,j,i+1] = F1\n",
    "            fluxes_imag[4,j+1,i] = F2\n",
    "            fluxes_imag[0,j-1,i] = F4\n",
    "            fluxes_imag[1,j,i-1] = F5\n",
    "            # vmax_NH opslaan in lijst\n",
    "            vjmax_list.append(vjmax_NH)\n",
    "      \n",
    "    # Globale tijdstap updaten\n",
    "    if not(np.isnan(np.max(vjmax_list))): #CORRIGEER VOOR DE NAN DIE OPTREED\n",
    "        deltat = deltax/np.max(vjmax_list)\n",
    "    #print(deltat)\n",
    "    t = t + deltat\n",
    "    t_list.append(t)\n",
    "    if t % 1000 < 10:\n",
    "        print(t)\n",
    "            \n",
    "    depths_imag_new = np.copy(depths_imag) + theta*np.sum(fluxes_imag,axis=0)/Acell\n",
    "    #updaten aan de randen: stel dat we deze volledig legen elke tijdstap\n",
    "    depths_imag_new[:,0] = 0\n",
    "    depths_imag_new[:,-1] = 0\n",
    "    depths_imag_new[0,:] = 0\n",
    "    depths_imag_new[-1,:] = 0\n",
    "    # Regenval toevoegen aan waterdiepte\n",
    "    if t < duration: #alleen in het eerste uur\n",
    "        depths_imag_new[1:-1,1:-1] = depths_imag_new[1:-1,1:-1] + rain*deltat\n",
    "    depths_list.append(depths_imag_new)"
   ]
  },
  {
   "cell_type": "markdown",
   "metadata": {},
   "source": [
    "Bemerk: door de keuze van kleiner deltax, liggen deze deltat ook direct lager! Dit is logisch uit de CFL conditie. "
   ]
  },
  {
   "cell_type": "markdown",
   "metadata": {},
   "source": [
    "Laad de functie om gifs te maken in"
   ]
  },
  {
   "cell_type": "code",
   "execution_count": 16,
   "metadata": {},
   "outputs": [],
   "source": [
    "def gif_maken_bis(layers, tijdstappen, fps, naam_file):\n",
    "    fig, ax = plt.subplots(figsize = (8,8))\n",
    "    a = layers[0]\n",
    "    im = plt.imshow(np.flipud(a), interpolation='none', vmin=0, vmax=np.max(depths_list[:]), cmap = 'binary')\n",
    "    plt.colorbar(im)\n",
    "\n",
    "\n",
    "    def animate_func(i):\n",
    "        if i % fps == 0:\n",
    "            print( '.', end ='' )\n",
    "\n",
    "        im.set_array(np.flipud(layers[i]))\n",
    "        ax.set_title('time = '+str(tijdstappen[i]/60) + 'min')\n",
    "    \n",
    "        return [im]\n",
    "\n",
    "    anim = animation.FuncAnimation(fig, animate_func, frames = len(layers), interval = 1000 / fps) # in ms)\n",
    "    anim.save(naam_file+'.gif', writer= 'pillow', fps=fps)# extra_args=['-vcodec', 'libx264'])        \n",
    "    print(\"Gif opgeslaan als \"+naam_file)"
   ]
  },
  {
   "cell_type": "code",
   "execution_count": 21,
   "metadata": {},
   "outputs": [
    {
     "name": "stdout",
     "output_type": "stream",
     "text": [
      ".............................Gif opgeslaan als stad_geleegde_randen\n"
     ]
    },
    {
     "data": {
      "image/png": "[encoded data removed]",
      "text/plain": [
       "<Figure size 576x576 with 2 Axes>"
      ]
     },
     "metadata": {
      "needs_background": "light"
     },
     "output_type": "display_data"
    }
   ],
   "source": [
    "depths_list_bis = [] \n",
    "for i in range(len(depths_list)):\n",
    "    bisframe = depths_list[i][1:-1,1:-1]\n",
    "    depths_list_bis.append(bisframe)\n",
    "\n",
    "gif_maken_bis(depths_list_bis, t_list, 20, 'stad_geleegde_randen')"
   ]
  }
 ],
 "metadata": {
  "interpreter": {
   "hash": "9834842791e0912c099bb96fa8c4f6d62480c04d6537cf994f4004520f9879d1"
  },
  "kernelspec": {
   "display_name": "Python 3.9.7 ('base')",
   "language": "python",
   "name": "python3"
  },
  "language_info": {
   "codemirror_mode": {
    "name": "ipython",
    "version": 3
   },
   "file_extension": ".py",
   "mimetype": "text/x-python",
   "name": "python",
   "nbconvert_exporter": "python",
   "pygments_lexer": "ipython3",
   "version": "3.9.7"
  },
  "orig_nbformat": 4
 },
 "nbformat": 4,
 "nbformat_minor": 2
}
